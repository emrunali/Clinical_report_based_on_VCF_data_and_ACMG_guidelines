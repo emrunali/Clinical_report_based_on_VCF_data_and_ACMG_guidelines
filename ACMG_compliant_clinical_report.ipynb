{
  "nbformat": 4,
  "nbformat_minor": 0,
  "metadata": {
    "colab": {
      "provenance": [],
      "authorship_tag": "ABX9TyPJUprOGBe+FmNKik2HDY0V",
      "include_colab_link": true
    },
    "kernelspec": {
      "name": "python3",
      "display_name": "Python 3"
    },
    "language_info": {
      "name": "python"
    }
  },
  "cells": [
    {
      "cell_type": "markdown",
      "metadata": {
        "id": "view-in-github",
        "colab_type": "text"
      },
      "source": [
        "<a href=\"https://colab.research.google.com/github/emrunali/Clinical_report_based_on_VCF_data_and_ACMG_guidelines/blob/main/ACMG_compliant_clinical_report.ipynb\" target=\"_parent\"><img src=\"https://colab.research.google.com/assets/colab-badge.svg\" alt=\"Open In Colab\"/></a>"
      ]
    },
    {
      "cell_type": "markdown",
      "source": [
        "**Step 1: Clone InterVar from its github repository**"
      ],
      "metadata": {
        "id": "S0fF5VeS9rAu"
      }
    },
    {
      "cell_type": "code",
      "source": [
        "!git clone https://github.com/WGLab/InterVar.git"
      ],
      "metadata": {
        "colab": {
          "base_uri": "https://localhost:8080/"
        },
        "id": "0T7G4cqnEeJL",
        "outputId": "3eeef37c-3efa-45b2-c44a-6131f3a14353"
      },
      "execution_count": 1,
      "outputs": [
        {
          "output_type": "stream",
          "name": "stdout",
          "text": [
            "Cloning into 'InterVar'...\n",
            "remote: Enumerating objects: 697, done.\u001b[K\n",
            "remote: Counting objects: 100% (42/42), done.\u001b[K\n",
            "remote: Compressing objects: 100% (26/26), done.\u001b[K\n",
            "remote: Total 697 (delta 22), reused 34 (delta 16), pack-reused 655\u001b[K\n",
            "Receiving objects: 100% (697/697), 92.83 MiB | 28.00 MiB/s, done.\n",
            "Resolving deltas: 100% (390/390), done.\n"
          ]
        }
      ]
    },
    {
      "cell_type": "markdown",
      "source": [
        "**Step 2: Add mim2gene.txt and morbidmap.txt to /content/intervardb**"
      ],
      "metadata": {
        "id": "7LR-S1zGBZ9X"
      }
    },
    {
      "cell_type": "code",
      "source": [
        "%cd InterVar"
      ],
      "metadata": {
        "colab": {
          "base_uri": "https://localhost:8080/"
        },
        "id": "JIXuqLw1Ei5W",
        "outputId": "2063cf4d-12e0-47dc-8245-6c687afdd5d5"
      },
      "execution_count": 2,
      "outputs": [
        {
          "output_type": "stream",
          "name": "stdout",
          "text": [
            "/content/InterVar\n"
          ]
        }
      ]
    },
    {
      "cell_type": "code",
      "source": [
        "import sys\n",
        "sys.path.append('/content/InterVar')"
      ],
      "metadata": {
        "id": "Umlez7KOE615"
      },
      "execution_count": 3,
      "outputs": []
    },
    {
      "cell_type": "markdown",
      "source": [
        "Make sure to modify config.ini file in the InterVar folder so that it can access annovar."
      ],
      "metadata": {
        "id": "0KvTxEvPzJfB"
      }
    },
    {
      "cell_type": "code",
      "source": [
        "#Before running this cell: download annovar and upload the annovar folder with humandb\n",
        "!unzip /content/annovar-20240319T032745Z-001.zip -d /content/"
      ],
      "metadata": {
        "colab": {
          "base_uri": "https://localhost:8080/"
        },
        "id": "ujiaGhCEtVHk",
        "outputId": "cb80bcef-b64c-4054-d9ec-c36ffe471422"
      },
      "execution_count": 5,
      "outputs": [
        {
          "output_type": "stream",
          "name": "stdout",
          "text": [
            "Archive:  /content/annovar-20240319T032745Z-001.zip\n",
            "  inflating: /content/annovar/coding_change.pl  \n",
            "  inflating: /content/annovar/retrieve_seq_from_fasta.pl  \n",
            "  inflating: /content/annovar/.DS_Store  \n",
            "  inflating: /content/annovar/table_annovar.pl  \n",
            "  inflating: /content/annovar/annotate_variation.pl  \n",
            "  inflating: /content/annovar/convert2annovar.pl  \n",
            "  inflating: /content/annovar/example/example.simple_region  \n",
            "  inflating: /content/annovar/humandb/GRCh37_MT_ensGene.txt  \n",
            "  inflating: /content/annovar/example/ex1.avinput  \n",
            "  inflating: /content/annovar/humandb/annovar_downdb.log  \n",
            "  inflating: /content/annovar/example/example.tab_region  \n",
            "  inflating: /content/annovar/humandb/hg19_example_db_generic.txt  \n",
            "  inflating: /content/annovar/humandb/GRCh37_MT_ensGeneMrna.fa  \n",
            "  inflating: /content/annovar/humandb/hg19_MT_ensGene.txt  \n",
            "  inflating: /content/annovar/humandb/hg19_refGeneVersion.txt  \n",
            "  inflating: /content/annovar/example/gene_xref.txt  \n",
            "  inflating: /content/annovar/variants_reduction.pl  \n",
            "  inflating: /content/annovar/humandb/genometrax-sample-files-gff/sample_cosmic_featuretype_hg19.gff  \n",
            "  inflating: /content/annovar/humandb/genometrax-sample-files-gff/sample_pathway_featuretype_hg19.gff  \n",
            "  inflating: /content/annovar/example/grantham.matrix  \n",
            "  inflating: /content/annovar/humandb/genometrax-sample-files-gff/sample_gwas_featuretype_hg19.gff  \n",
            "  inflating: /content/annovar/humandb/genometrax-sample-files-gff/sample_common_snp_featuretype_hg19.gff  \n",
            "  inflating: /content/annovar/humandb/genometrax-sample-files-gff/sample_disease_featuretype_hg19.gff  \n",
            "  inflating: /content/annovar/humandb/genometrax-sample-files-gff/sample_drug_featuretype_hg19.gff  \n",
            "  inflating: /content/annovar/example/snplist.txt  \n",
            "  inflating: /content/annovar/example/ex2.vcf  \n",
            "  inflating: /content/annovar/humandb/genometrax-sample-files-gff/sample_snps_dbsnp_featuretype_hg19.gff  \n",
            "  inflating: /content/annovar/humandb/genometrax-sample-files-gff/sample_hgmd_common_snp_featuretype_hg19.gff  \n",
            "  inflating: /content/annovar/humandb/genometrax-sample-files-gff/list  \n",
            "  inflating: /content/annovar/example/README  \n",
            "  inflating: /content/annovar/humandb/hg19_MT_ensGeneMrna.fa  \n",
            "  inflating: /content/annovar/humandb/genometrax-sample-files-gff/sample_chip_featuretype_hg19.gff  \n",
            "  inflating: /content/annovar/humandb/genometrax-sample-files-gff/sample_evs_featuretype_hg19.gff  \n",
            "  inflating: /content/annovar/humandb/genometrax-sample-files-gff/sample_microsatellites_featuretype_hg19.gff  \n",
            "  inflating: /content/annovar/humandb/genometrax-sample-files-gff/sample_omim_featuretype_hg19.gff  \n",
            "  inflating: /content/annovar/humandb/genometrax-sample-files-gff/sample_pgx_featuretype_hg19.gff  \n",
            "  inflating: /content/annovar/humandb/genometrax-sample-files-gff/sample_hgmd_featuretype_hg19.gff  \n",
            "  inflating: /content/annovar/humandb/genometrax-sample-files-gff/sample_tss_featuretype_hg19.gff  \n",
            "  inflating: /content/annovar/humandb/genometrax-sample-files-gff/sample_snps_ensembl_featuretype_hg19.gff  \n",
            "  inflating: /content/annovar/humandb/genometrax-sample-files-gff/sample_hgmd_disease_genes_featuretype_hg19.gff  \n",
            "  inflating: /content/annovar/humandb/genometrax-sample-files-gff/sample_ptms_featuretype_hg19.gff  \n",
            "  inflating: /content/annovar/humandb/genometrax-sample-files-gff/sample_miRNA_featuretype_hg19.gff  \n",
            "  inflating: /content/annovar/humandb/genometrax-sample-files-gff/sample_dnase_featuretype_hg19.gff  \n",
            "  inflating: /content/annovar/humandb/genometrax-sample-files-gff/sample_hgmdimputed_featuretype_hg19.gff  \n",
            "  inflating: /content/annovar/humandb/genometrax-sample-files-gff/sample_transfac_sites_featuretype_hg19.gff  \n",
            "  inflating: /content/annovar/humandb/genometrax-sample-files-gff/sample_cpg_islands_featuretype_hg19.gff  \n",
            "  inflating: /content/annovar/humandb/genometrax-sample-files-gff/sample_dbnsfp_featuretype_hg19.gff  \n",
            "  inflating: /content/annovar/humandb/hg19_example_db_gff3.txt  \n",
            "  inflating: /content/annovar/humandb/hg19_refGeneWithVer.txt  \n",
            "  inflating: /content/annovar/humandb/hg19_refGene.txt  \n",
            "  inflating: /content/annovar/example/gene_fullxref.txt  \n",
            "  inflating: /content/annovar/humandb/hg19_refGeneMrna.fa  \n",
            "  inflating: /content/annovar/humandb/hg19_refGeneWithVerMrna.fa  \n"
          ]
        }
      ]
    },
    {
      "cell_type": "code",
      "source": [
        "!apt-get install python3-vcf"
      ],
      "metadata": {
        "colab": {
          "base_uri": "https://localhost:8080/"
        },
        "id": "BxVjzGUYFpcw",
        "outputId": "5f04924d-b49a-430f-eca2-a6642653ad91"
      },
      "execution_count": 6,
      "outputs": [
        {
          "output_type": "stream",
          "name": "stdout",
          "text": [
            "Reading package lists... Done\n",
            "Building dependency tree... Done\n",
            "Reading state information... Done\n",
            "The following additional packages will be installed:\n",
            "  libhts3 libhtscodecs2 python3-pysam\n",
            "The following NEW packages will be installed:\n",
            "  libhts3 libhtscodecs2 python3-pysam python3-vcf\n",
            "0 upgraded, 4 newly installed, 0 to remove and 38 not upgraded.\n",
            "Need to get 2,235 kB of archives.\n",
            "After this operation, 7,089 kB of additional disk space will be used.\n",
            "Get:1 http://archive.ubuntu.com/ubuntu jammy/universe amd64 libhtscodecs2 amd64 1.1.1-3 [53.2 kB]\n",
            "Get:2 http://archive.ubuntu.com/ubuntu jammy/universe amd64 libhts3 amd64 1.13+ds-2build1 [390 kB]\n",
            "Get:3 http://archive.ubuntu.com/ubuntu jammy/universe amd64 python3-pysam amd64 0.17.0+ds-2build1 [1,749 kB]\n",
            "Get:4 http://archive.ubuntu.com/ubuntu jammy/universe amd64 python3-vcf amd64 0.6.8+git20170215.476169c-8build1 [43.5 kB]\n",
            "Fetched 2,235 kB in 2s (896 kB/s)\n",
            "Selecting previously unselected package libhtscodecs2:amd64.\n",
            "(Reading database ... 121752 files and directories currently installed.)\n",
            "Preparing to unpack .../libhtscodecs2_1.1.1-3_amd64.deb ...\n",
            "Unpacking libhtscodecs2:amd64 (1.1.1-3) ...\n",
            "Selecting previously unselected package libhts3:amd64.\n",
            "Preparing to unpack .../libhts3_1.13+ds-2build1_amd64.deb ...\n",
            "Unpacking libhts3:amd64 (1.13+ds-2build1) ...\n",
            "Selecting previously unselected package python3-pysam.\n",
            "Preparing to unpack .../python3-pysam_0.17.0+ds-2build1_amd64.deb ...\n",
            "Unpacking python3-pysam (0.17.0+ds-2build1) ...\n",
            "Selecting previously unselected package python3-vcf.\n",
            "Preparing to unpack .../python3-vcf_0.6.8+git20170215.476169c-8build1_amd64.deb ...\n",
            "Unpacking python3-vcf (0.6.8+git20170215.476169c-8build1) ...\n",
            "Setting up libhtscodecs2:amd64 (1.1.1-3) ...\n",
            "Setting up libhts3:amd64 (1.13+ds-2build1) ...\n",
            "Setting up python3-pysam (0.17.0+ds-2build1) ...\n",
            "Setting up python3-vcf (0.6.8+git20170215.476169c-8build1) ...\n",
            "Processing triggers for man-db (2.10.2-1) ...\n",
            "Processing triggers for libc-bin (2.35-0ubuntu3.4) ...\n",
            "/sbin/ldconfig.real: /usr/local/lib/libtbbbind_2_5.so.3 is not a symbolic link\n",
            "\n",
            "/sbin/ldconfig.real: /usr/local/lib/libtbbbind.so.3 is not a symbolic link\n",
            "\n",
            "/sbin/ldconfig.real: /usr/local/lib/libtbb.so.12 is not a symbolic link\n",
            "\n",
            "/sbin/ldconfig.real: /usr/local/lib/libtbbmalloc_proxy.so.2 is not a symbolic link\n",
            "\n",
            "/sbin/ldconfig.real: /usr/local/lib/libtbbbind_2_0.so.3 is not a symbolic link\n",
            "\n",
            "/sbin/ldconfig.real: /usr/local/lib/libtbbmalloc.so.2 is not a symbolic link\n",
            "\n"
          ]
        }
      ]
    },
    {
      "cell_type": "code",
      "source": [
        "import vcf\n",
        "import gzip"
      ],
      "metadata": {
        "id": "SMuOEoKwGYoB"
      },
      "execution_count": 7,
      "outputs": []
    },
    {
      "cell_type": "code",
      "source": [
        "vcf_file = \"/content/normal_sample.deepvariant.vcf.gz\"\n",
        "with gzip.open(vcf_file, 'rt') as f: #not really required\n",
        "  print(f.read(100)) #read first 1200 characters in the file, just verifying"
      ],
      "metadata": {
        "colab": {
          "base_uri": "https://localhost:8080/"
        },
        "id": "5LeZwlMyGchw",
        "outputId": "9667bdb3-3390-446f-e74e-9bb6521a9f14"
      },
      "execution_count": 8,
      "outputs": [
        {
          "output_type": "stream",
          "name": "stdout",
          "text": [
            "##fileformat=VCFv4.2\n",
            "##DeepVariant_version=1.5.0\n",
            "##FILTER=<ID=LowQual,Description=\"Confidence in thi\n"
          ]
        }
      ]
    },
    {
      "cell_type": "code",
      "source": [
        "vcf_reader = vcf.Reader(filename = vcf_file, compressed = True)\n",
        "print(vcf_reader.metadata)"
      ],
      "metadata": {
        "colab": {
          "base_uri": "https://localhost:8080/"
        },
        "id": "MWtMrlNiGiB1",
        "outputId": "e861cab5-e0e3-41cf-a752-2ae502d6a8ec"
      },
      "execution_count": 9,
      "outputs": [
        {
          "output_type": "stream",
          "name": "stdout",
          "text": [
            "OrderedDict([('fileformat', 'VCFv4.2'), ('DeepVariant_version', ['1.5.0'])])\n"
          ]
        }
      ]
    },
    {
      "cell_type": "code",
      "source": [
        "#would take longer as many variants\n",
        "variant_data = [] #list of dictionaries, each dictionary has key:value pairs describing variant information from vcf file\n",
        "for record in vcf_reader:\n",
        "    variant = {\n",
        "        'chr': record.CHROM[3:],\n",
        "        'pos': record.POS,\n",
        "        'ref': record.REF,\n",
        "        'alt': str(record.ALT[0]),\n",
        "    }\n",
        "    variant_data.append(variant)"
      ],
      "metadata": {
        "id": "MLmof2JaGvJs"
      },
      "execution_count": 9,
      "outputs": []
    },
    {
      "cell_type": "code",
      "source": [
        "print(variant_data[:10])"
      ],
      "metadata": {
        "colab": {
          "base_uri": "https://localhost:8080/"
        },
        "id": "KN8FYXSBNKZT",
        "outputId": "a126a8fe-a72d-49ea-c044-aa715949646c"
      },
      "execution_count": 10,
      "outputs": [
        {
          "output_type": "stream",
          "name": "stdout",
          "text": [
            "[{'chr': 'r', 'pos': 12807, 'ref': 'C', 'alt': 'T'}, {'chr': 'r', 'pos': 13079, 'ref': 'C', 'alt': 'G'}, {'chr': 'r', 'pos': 13418, 'ref': 'G', 'alt': 'A'}, {'chr': 'r', 'pos': 13649, 'ref': 'G', 'alt': 'C'}, {'chr': 'r', 'pos': 13813, 'ref': 'T', 'alt': 'G'}, {'chr': 'r', 'pos': 13838, 'ref': 'C', 'alt': 'T'}, {'chr': 'r', 'pos': 14248, 'ref': 'T', 'alt': 'G'}, {'chr': 'r', 'pos': 14354, 'ref': 'C', 'alt': 'A'}, {'chr': 'r', 'pos': 14522, 'ref': 'G', 'alt': 'A'}, {'chr': 'r', 'pos': 14542, 'ref': 'A', 'alt': 'G'}]\n"
          ]
        }
      ]
    },
    {
      "cell_type": "code",
      "source": [
        "!gzip -dk /content/normal_sample.deepvariant.vcf.gz"
      ],
      "metadata": {
        "id": "rX3ic_679SyV"
      },
      "execution_count": 10,
      "outputs": []
    },
    {
      "cell_type": "code",
      "source": [
        "import pysam\n",
        "\n",
        "def filter_vcf(input_vcf_path, output_vcf_path, min_qual=20, min_vaf=0.3):\n",
        "    vcf_in = pysam.VariantFile(input_vcf_path)\n",
        "    vcf_out = pysam.VariantFile(output_vcf_path, 'w', header=vcf_in.header)\n",
        "\n",
        "    for record in vcf_in.fetch():\n",
        "        if record.qual < min_qual or record.filter.keys() != ['PASS']:\n",
        "            continue  # Skip low-quality variants and non-PASS\n",
        "\n",
        "        # Extract and parse VAF for each variant. This assumes VAF is the 5th value in the FORMAT field\n",
        "        vaf_values = [sample.get('VAF', [0])[0] for sample in record.samples.values()]\n",
        "        if all(vaf < min_vaf for vaf in vaf_values):\n",
        "            continue  # Skip variants with VAF below threshold\n",
        "\n",
        "        vcf_out.write(record)\n",
        "\n",
        "    vcf_in.close()\n",
        "    vcf_out.close()\n",
        "\n",
        "# Example usage\n",
        "filter_vcf('/content/normal_sample.deepvariant.vcf', '/content/filtered_normal_sample.deepvariant.vcf')\n"
      ],
      "metadata": {
        "id": "0srX0NYFup1h"
      },
      "execution_count": 11,
      "outputs": []
    },
    {
      "cell_type": "code",
      "source": [
        "!chmod +x /content/annovar/*.pl"
      ],
      "metadata": {
        "id": "z8iBwuqd7GYQ"
      },
      "execution_count": 14,
      "outputs": []
    },
    {
      "cell_type": "code",
      "source": [
        "!python /content/InterVar/Intervar.py \\\n",
        "    --config /content/InterVar/config.ini \\\n",
        "    --input /content/filtered_normal_sample.deepvariant.vcf \\\n",
        "    --output /content/classified_variants \\\n",
        "    --input_type VCF \\\n",
        "    --buildver hg19"
      ],
      "metadata": {
        "colab": {
          "base_uri": "https://localhost:8080/"
        },
        "id": "jHvp1DPT8gk0",
        "outputId": "6a6b18e6-9125-43f1-e3fa-b15b19bd5eb2"
      },
      "execution_count": 13,
      "outputs": [
        {
          "output_type": "stream",
          "name": "stdout",
          "text": [
            "=============================================================================\n",
            "InterVar                                                                       \n",
            "Interpretation of Pathogenic/Benign for variants using python scripts. \n",
            "\n",
            ".####.##....##.########.########.########..##.....##....###....########.\n",
            "..##..###...##....##....##.......##.....##.##.....##...##.##...##.....##\n",
            "..##..####..##....##....##.......##.....##.##.....##..##...##..##.....##\n",
            "..##..##.##.##....##....######...########..##.....##.##.....##.########.\n",
            "..##..##..####....##....##.......##...##....##...##..#########.##...##..\n",
            "..##..##...###....##....##.......##....##....##.##...##.....##.##....##.\n",
            ".####.##....##....##....########.##.....##....###....##.....##.##.....##\n",
            "\n",
            "=============================================================================\n",
            "\n",
            "%prog 2.2.2 20210727\n",
            "Written by Quan LI,leequan@gmail.com. \n",
            "InterVar is free for non-commercial use without warranty.\n",
            "Please contact the authors for commercial use.\n",
            "Copyright (C) 2016 Wang Genomic Lab\n",
            "============================================================================\n",
            "\n",
            "Notice: Your command of InterVar is ['/content/InterVar/Intervar.py', '--config', '/content/InterVar/config.ini', '--input', '/content/filtered_normal_sample.deepvariant.vcf', '--output', '/content/classified_variants', '--input_type', 'VCF', '--buildver', 'hg19']\n",
            "INFO: The options are {'buildver': 'hg19', 'inputfile': '/content/filtered_normal_sample.deepvariant.vcf', 'inputfile_type': 'VCF', 'outfile': '/content/classified_variants', 'database_intervar': 'intervardb', 'lof_genes': 'intervardb/PVS1.LOF.genes.hg19', 'pm1_domain': 'intervardb/PM1_domains_with_benigns.hg19', 'mim2gene': 'intervardb/mim2gene.txt', 'mim_recessive': 'intervardb/mim_recessive.txt', 'mim_domin': 'intervardb/mim_domin.txt', 'mim_adultonset': 'intervardb/mim_adultonset.txt', 'mim_pheno': 'intervardb/mim_pheno.txt', 'mim_orpha': 'intervardb/mim_orpha.txt', 'orpha': 'intervardb/orpha.txt.utf8', 'knowngenecanonical': 'intervardb/knownGeneCanonical.txt.hg19', 'pp2_genes': 'intervardb/PP2.genes.hg19', 'bp1_genes': 'intervardb/BP1.genes.hg19', 'ps1_aa': 'intervardb/PS1.AA.change.patho.hg19', 'ps4_snps': 'intervardb/PS4.variants.hg19', 'bs2_snps': 'intervardb/BS2_hom_het.hg19', 'exclude_snps': 'intervardb/ext.variants.hg19', 'evidence_file': 'None', 'disorder_cutoff': '0.01', 'onetranscript': 'FALSE', 'otherinfo': 'TRUE', 'convert2annovar': '/content/annovar/convert2annovar.pl', 'table_annovar': '/content/annovar/table_annovar.pl', 'annotate_variation': '/content/annovar/annotate_variation.pl', 'database_locat': '/content/annovar/humandb', 'database_names': 'refGene esp6500siv2_all 1000g2015aug avsnp147 dbnsfp42a clinvar_20210501 gnomad_genome dbscsnv11 rmsk ensGene knownGene', 'current_version': 'Intervar_20210727', 'public_dev': 'https://github.com/WGLab/InterVar/releases', 'skip_annovar': False} \n",
            "Warning: the folder of /content/annovar/humandb is already created!\n",
            "Warning: The Annovar dataset file of esp6500siv2_all is not in /content/annovar/humandb,begin to download this /content/annovar/humandb/hg19_esp6500siv2_all.txt ...\n",
            "perl /content/annovar/annotate_variation.pl -buildver hg19 -downdb -webfrom annovar esp6500siv2_all /content/annovar/humandb\n",
            "NOTICE: Web-based checking to see whether ANNOVAR new version is available ... Done\n",
            "NOTICE: Downloading annotation database http://www.openbioinformatics.org/annovar/download/hg19_esp6500siv2_all.txt.gz ... OK\n",
            "NOTICE: Downloading annotation database http://www.openbioinformatics.org/annovar/download/hg19_esp6500siv2_all.txt.idx.gz ... OK\n",
            "NOTICE: Uncompressing downloaded files\n",
            "NOTICE: Finished downloading annotation files for hg19 build version, with files saved at the '/content/annovar/humandb' directory\n",
            "Warning: The Annovar dataset file of 1000g2015aug is not in /content/annovar/humandb,begin to download this /content/annovar/humandb/hg19_1000g2015aug.txt ...\n",
            "perl /content/annovar/annotate_variation.pl -buildver hg19 -downdb -webfrom annovar 1000g2015aug /content/annovar/humandb\n",
            "NOTICE: Web-based checking to see whether ANNOVAR new version is available ... Done\n",
            "NOTICE: Downloading annotation database http://www.openbioinformatics.org/annovar/download/hg19_1000g2015aug.zip ... OK\n",
            "NOTICE: Uncompressing downloaded files\n",
            "NOTICE: Finished downloading annotation files for hg19 build version, with files saved at the '/content/annovar/humandb' directory\n",
            "Warning: The Annovar dataset file of avsnp147 is not in /content/annovar/humandb,begin to download this /content/annovar/humandb/hg19_avsnp147.txt ...\n",
            "perl /content/annovar/annotate_variation.pl -buildver hg19 -downdb -webfrom annovar avsnp147 /content/annovar/humandb\n",
            "NOTICE: Web-based checking to see whether ANNOVAR new version is available ... Done\n",
            "NOTICE: Downloading annotation database http://www.openbioinformatics.org/annovar/download/hg19_avsnp147.txt.gz ... OK\n",
            "NOTICE: Downloading annotation database http://www.openbioinformatics.org/annovar/download/hg19_avsnp147.txt.idx.gz ... OK\n",
            "NOTICE: Uncompressing downloaded files\n",
            "NOTICE: Finished downloading annotation files for hg19 build version, with files saved at the '/content/annovar/humandb' directory\n",
            "Warning: The Annovar dataset file of dbnsfp42a is not in /content/annovar/humandb,begin to download this /content/annovar/humandb/hg19_dbnsfp42a.txt ...\n",
            "perl /content/annovar/annotate_variation.pl -buildver hg19 -downdb -webfrom annovar dbnsfp42a /content/annovar/humandb\n",
            "NOTICE: Web-based checking to see whether ANNOVAR new version is available ... Done\n",
            "NOTICE: Downloading annotation database http://www.openbioinformatics.org/annovar/download/hg19_dbnsfp42a.txt.gz ... OK\n",
            "NOTICE: Downloading annotation database http://www.openbioinformatics.org/annovar/download/hg19_dbnsfp42a.txt.idx.gz ... OK\n",
            "NOTICE: Uncompressing downloaded files\n",
            "NOTICE: Finished downloading annotation files for hg19 build version, with files saved at the '/content/annovar/humandb' directory\n",
            "Warning: The Annovar dataset file of clinvar_20210501 is not in /content/annovar/humandb,begin to download this /content/annovar/humandb/hg19_clinvar_20210501.txt ...\n",
            "perl /content/annovar/annotate_variation.pl -buildver hg19 -downdb -webfrom annovar clinvar_20210501 /content/annovar/humandb\n",
            "NOTICE: Web-based checking to see whether ANNOVAR new version is available ... Done\n",
            "NOTICE: Downloading annotation database http://www.openbioinformatics.org/annovar/download/hg19_clinvar_20210501.txt.gz ... OK\n",
            "NOTICE: Downloading annotation database http://www.openbioinformatics.org/annovar/download/hg19_clinvar_20210501.txt.idx.gz ... OK\n",
            "NOTICE: Uncompressing downloaded files\n",
            "NOTICE: Finished downloading annotation files for hg19 build version, with files saved at the '/content/annovar/humandb' directory\n",
            "Warning: The Annovar dataset file of gnomad_genome is not in /content/annovar/humandb,begin to download this /content/annovar/humandb/hg19_gnomad_genome.txt ...\n",
            "perl /content/annovar/annotate_variation.pl -buildver hg19 -downdb -webfrom annovar gnomad_genome /content/annovar/humandb\n",
            "NOTICE: Web-based checking to see whether ANNOVAR new version is available ... Done\n",
            "NOTICE: Downloading annotation database http://www.openbioinformatics.org/annovar/download/hg19_gnomad_genome.txt.gz ... OK\n",
            "NOTICE: Downloading annotation database http://www.openbioinformatics.org/annovar/download/hg19_gnomad_genome.txt.idx.gz ... OK\n",
            "NOTICE: Uncompressing downloaded files\n",
            "NOTICE: Finished downloading annotation files for hg19 build version, with files saved at the '/content/annovar/humandb' directory\n",
            "Warning: The Annovar dataset file of dbscsnv11 is not in /content/annovar/humandb,begin to download this /content/annovar/humandb/hg19_dbscsnv11.txt ...\n",
            "perl /content/annovar/annotate_variation.pl -buildver hg19 -downdb -webfrom annovar dbscsnv11 /content/annovar/humandb\n",
            "NOTICE: Web-based checking to see whether ANNOVAR new version is available ... Done\n",
            "NOTICE: Downloading annotation database http://www.openbioinformatics.org/annovar/download/hg19_dbscsnv11.txt.gz ... OK\n",
            "NOTICE: Downloading annotation database http://www.openbioinformatics.org/annovar/download/hg19_dbscsnv11.txt.idx.gz ... OK\n",
            "NOTICE: Uncompressing downloaded files\n",
            "NOTICE: Finished downloading annotation files for hg19 build version, with files saved at the '/content/annovar/humandb' directory\n",
            "Warning: The Annovar dataset file of rmsk is not in /content/annovar/humandb,begin to download this /content/annovar/humandb/hg19_rmsk.txt ...\n",
            "perl /content/annovar/annotate_variation.pl -buildver hg19 -downdb rmsk /content/annovar/humandb\n",
            "NOTICE: Web-based checking to see whether ANNOVAR new version is available ... Done\n",
            "NOTICE: Downloading annotation database http://hgdownload.cse.ucsc.edu/goldenPath/hg19/database/rmsk.txt.gz ... OK\n",
            "NOTICE: Uncompressing downloaded files\n",
            "NOTICE: Finished downloading annotation files for hg19 build version, with files saved at the '/content/annovar/humandb' directory\n",
            "Warning: The Annovar dataset file of ensGene is not in /content/annovar/humandb,begin to download this /content/annovar/humandb/hg19_ensGene.txt ...\n",
            "perl /content/annovar/annotate_variation.pl -buildver hg19 -downdb -webfrom annovar ensGene /content/annovar/humandb\n",
            "NOTICE: Web-based checking to see whether ANNOVAR new version is available ... Done\n",
            "NOTICE: Downloading annotation database http://www.openbioinformatics.org/annovar/download/hg19_ensGene.txt.gz ... OK\n",
            "NOTICE: Downloading annotation database http://www.openbioinformatics.org/annovar/download/hg19_ensGeneMrna.fa.gz ... OK\n",
            "NOTICE: Uncompressing downloaded files\n",
            "NOTICE: Finished downloading annotation files for hg19 build version, with files saved at the '/content/annovar/humandb' directory\n",
            "Warning: The Annovar dataset file of knownGene is not in /content/annovar/humandb,begin to download this /content/annovar/humandb/hg19_knownGene.txt ...\n",
            "perl /content/annovar/annotate_variation.pl -buildver hg19 -downdb -webfrom annovar knownGene /content/annovar/humandb\n",
            "NOTICE: Web-based checking to see whether ANNOVAR new version is available ... Done\n",
            "NOTICE: Downloading annotation database http://www.openbioinformatics.org/annovar/download/hg19_knownGene.txt.gz ... OK\n",
            "NOTICE: Downloading annotation database http://www.openbioinformatics.org/annovar/download/hg19_kgXref.txt.gz ... OK\n",
            "NOTICE: Downloading annotation database http://www.openbioinformatics.org/annovar/download/hg19_knownGeneMrna.fa.gz ... OK\n",
            "NOTICE: Uncompressing downloaded files\n",
            "NOTICE: Finished downloading annotation files for hg19 build version, with files saved at the '/content/annovar/humandb' directory\n",
            "Warning: Begin to convert your vcf file of /content/filtered_normal_sample.deepvariant.vcf to AVinput of Annovar ...\n",
            "perl /content/annovar/convert2annovar.pl -format vcf4 /content/filtered_normal_sample.deepvariant.vcf> /content/filtered_normal_sample.deepvariant.vcf.avinput\n",
            "NOTICE: Finished reading 265456 lines from VCF file\n",
            "NOTICE: A total of 262074 locus in VCF file passed QC threshold, representing 223378 SNPs (156231 transitions and 67147 transversions) and 43792 indels/substitutions\n",
            "NOTICE: Finished writing 223351 SNP genotypes (156221 transitions and 67130 transversions) and 42747 indels/substitutions for 1 sample\n",
            "perl /content/annovar/table_annovar.pl /content/filtered_normal_sample.deepvariant.vcf.avinput /content/annovar/humandb -buildver hg19 -remove -out /content/classified_variants -protocol refGene,esp6500siv2_all,1000g2015aug_all,avsnp147,dbnsfp42a,clinvar_20210501,gnomad_genome,dbscsnv11,rmsk,ensGene,knownGene   -operation  g,f,f,f,f,f,f,f,r,g,g   -nastring . --otherinfo \n",
            "NOTICE: the --polish argument is set ON automatically (use --nopolish to change this behavior)\n",
            "-----------------------------------------------------------------\n",
            "NOTICE: Processing operation=g protocol=refGene\n",
            "\n",
            "NOTICE: Running with system command <annotate_variation.pl -geneanno -buildver hg19 -dbtype refGene -outfile /content/classified_variants.refGene -exonsort -nofirstcodondel /content/filtered_normal_sample.deepvariant.vcf.avinput /content/annovar/humandb>\n",
            "Can't exec \"annotate_variation.pl\": Permission denied at /content/annovar/table_annovar.pl line 444.\n",
            "Error running system command: <annotate_variation.pl -geneanno -buildver hg19 -dbtype refGene -outfile /content/classified_variants.refGene -exonsort -nofirstcodondel /content/filtered_normal_sample.deepvariant.vcf.avinput /content/annovar/humandb>\n",
            "Warning: Customized  disease cutoff 0.01 in config.ini, not suggested as 0.005\n",
            "Error: can't read the OMIM  file intervardb/mim2gene.txt\n",
            "Error: Please download it from http://www.omim.org/downloads\n"
          ]
        }
      ]
    }
  ]
}