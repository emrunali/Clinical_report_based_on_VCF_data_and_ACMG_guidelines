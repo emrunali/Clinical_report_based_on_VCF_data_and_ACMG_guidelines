{
  "nbformat": 4,
  "nbformat_minor": 0,
  "metadata": {
    "colab": {
      "provenance": [],
      "authorship_tag": "ABX9TyMrel5OakUBl10Tazh+Sbpc",
      "include_colab_link": true
    },
    "kernelspec": {
      "name": "python3",
      "display_name": "Python 3"
    },
    "language_info": {
      "name": "python"
    }
  },
  "cells": [
    {
      "cell_type": "markdown",
      "metadata": {
        "id": "view-in-github",
        "colab_type": "text"
      },
      "source": [
        "<a href=\"https://colab.research.google.com/github/emrunali/Clinical_report_based_on_VCF_data_and_ACMG_guidelines/blob/main/ACMG_compliant_clinical_report.ipynb\" target=\"_parent\"><img src=\"https://colab.research.google.com/assets/colab-badge.svg\" alt=\"Open In Colab\"/></a>"
      ]
    },
    {
      "cell_type": "code",
      "source": [
        "!git clone https://github.com/WGLab/InterVar.git"
      ],
      "metadata": {
        "id": "0T7G4cqnEeJL",
        "outputId": "c7a2b0e0-9a1c-4d3e-bda6-788dd992a062",
        "colab": {
          "base_uri": "https://localhost:8080/"
        }
      },
      "execution_count": 1,
      "outputs": [
        {
          "output_type": "stream",
          "name": "stdout",
          "text": [
            "fatal: destination path 'InterVar' already exists and is not an empty directory.\n"
          ]
        }
      ]
    },
    {
      "cell_type": "code",
      "source": [
        "%cd InterVar"
      ],
      "metadata": {
        "id": "JIXuqLw1Ei5W",
        "outputId": "7bbe734d-f670-4109-ec67-acc2bedc3f56",
        "colab": {
          "base_uri": "https://localhost:8080/"
        }
      },
      "execution_count": 2,
      "outputs": [
        {
          "output_type": "stream",
          "name": "stdout",
          "text": [
            "/content/InterVar\n"
          ]
        }
      ]
    },
    {
      "cell_type": "code",
      "source": [
        "import sys\n",
        "sys.path.append('/content/InterVar')"
      ],
      "metadata": {
        "id": "Umlez7KOE615"
      },
      "execution_count": 3,
      "outputs": []
    },
    {
      "cell_type": "code",
      "source": [
        "#from Intervar import InterVar #InterVar class not defined within Intervar module"
      ],
      "metadata": {
        "id": "OCGU9d2CFDC5"
      },
      "execution_count": null,
      "outputs": []
    },
    {
      "cell_type": "code",
      "source": [
        "!git clone https://github.com/WGLab/doc-ANNOVAR.git"
      ],
      "metadata": {
        "id": "v_Xv85AXK3GP",
        "outputId": "936d9284-3dfb-4599-c9a3-78a11d6190ba",
        "colab": {
          "base_uri": "https://localhost:8080/"
        }
      },
      "execution_count": 4,
      "outputs": [
        {
          "output_type": "stream",
          "name": "stdout",
          "text": [
            "fatal: destination path 'doc-ANNOVAR' already exists and is not an empty directory.\n"
          ]
        }
      ]
    },
    {
      "cell_type": "code",
      "source": [
        "!apt-get install python3-vcf"
      ],
      "metadata": {
        "id": "BxVjzGUYFpcw",
        "outputId": "ef2d81b8-7970-4fdf-d676-403e0f8f5119",
        "colab": {
          "base_uri": "https://localhost:8080/"
        }
      },
      "execution_count": 5,
      "outputs": [
        {
          "output_type": "stream",
          "name": "stdout",
          "text": [
            "Reading package lists... Done\n",
            "Building dependency tree... Done\n",
            "Reading state information... Done\n",
            "python3-vcf is already the newest version (0.6.8+git20170215.476169c-8build1).\n",
            "0 upgraded, 0 newly installed, 0 to remove and 38 not upgraded.\n"
          ]
        }
      ]
    },
    {
      "cell_type": "code",
      "source": [
        "import vcf\n",
        "import gzip"
      ],
      "metadata": {
        "id": "SMuOEoKwGYoB"
      },
      "execution_count": 6,
      "outputs": []
    },
    {
      "cell_type": "code",
      "source": [
        "vcf_file = \"/content/normal_sample.deepvariant.vcf.gz\"\n",
        "with gzip.open(vcf_file, 'rt') as f: #not really required\n",
        "  print(f.read(100)) #read first 1200 characters in the file, just verifying"
      ],
      "metadata": {
        "id": "5LeZwlMyGchw",
        "outputId": "77a15394-db98-4a96-8b1d-030287519804",
        "colab": {
          "base_uri": "https://localhost:8080/"
        }
      },
      "execution_count": 7,
      "outputs": [
        {
          "output_type": "stream",
          "name": "stdout",
          "text": [
            "##fileformat=VCFv4.2\n",
            "##DeepVariant_version=1.5.0\n",
            "##FILTER=<ID=LowQual,Description=\"Confidence in thi\n"
          ]
        }
      ]
    },
    {
      "cell_type": "code",
      "source": [
        "vcf_reader = vcf.Reader(filename = vcf_file, compressed = True)\n",
        "print(vcf_reader.metadata)"
      ],
      "metadata": {
        "id": "MWtMrlNiGiB1",
        "outputId": "8acd1694-072d-44ee-9465-8bf172b9c0ec",
        "colab": {
          "base_uri": "https://localhost:8080/"
        }
      },
      "execution_count": 8,
      "outputs": [
        {
          "output_type": "stream",
          "name": "stdout",
          "text": [
            "OrderedDict([('fileformat', 'VCFv4.2'), ('DeepVariant_version', ['1.5.0'])])\n"
          ]
        }
      ]
    },
    {
      "cell_type": "code",
      "source": [
        "#would take longer as many variants\n",
        "variant_data = [] #list of dictionaries, each dictionary has key:value pairs describing variant information from vcf file\n",
        "for record in vcf_reader:\n",
        "    variant = {\n",
        "        'chr': record.CHROM[3:],\n",
        "        'pos': record.POS,\n",
        "        'ref': record.REF,\n",
        "        'alt': str(record.ALT[0]),\n",
        "    }\n",
        "    variant_data.append(variant)"
      ],
      "metadata": {
        "id": "MLmof2JaGvJs"
      },
      "execution_count": 9,
      "outputs": []
    },
    {
      "cell_type": "code",
      "source": [
        "print(variant_data[:10])"
      ],
      "metadata": {
        "id": "KN8FYXSBNKZT",
        "outputId": "a126a8fe-a72d-49ea-c044-aa715949646c",
        "colab": {
          "base_uri": "https://localhost:8080/"
        }
      },
      "execution_count": 10,
      "outputs": [
        {
          "output_type": "stream",
          "name": "stdout",
          "text": [
            "[{'chr': 'r', 'pos': 12807, 'ref': 'C', 'alt': 'T'}, {'chr': 'r', 'pos': 13079, 'ref': 'C', 'alt': 'G'}, {'chr': 'r', 'pos': 13418, 'ref': 'G', 'alt': 'A'}, {'chr': 'r', 'pos': 13649, 'ref': 'G', 'alt': 'C'}, {'chr': 'r', 'pos': 13813, 'ref': 'T', 'alt': 'G'}, {'chr': 'r', 'pos': 13838, 'ref': 'C', 'alt': 'T'}, {'chr': 'r', 'pos': 14248, 'ref': 'T', 'alt': 'G'}, {'chr': 'r', 'pos': 14354, 'ref': 'C', 'alt': 'A'}, {'chr': 'r', 'pos': 14522, 'ref': 'G', 'alt': 'A'}, {'chr': 'r', 'pos': 14542, 'ref': 'A', 'alt': 'G'}]\n"
          ]
        }
      ]
    },
    {
      "cell_type": "code",
      "source": [
        "intervar_instance = Intervar.InterVar()\n",
        "classified_variants = intervar_instance.classify_variants(variant_data)"
      ],
      "metadata": {
        "id": "lZQPsxsZHJHI",
        "outputId": "b083e845-92f0-4ef6-f992-95ca8e9eb6d6",
        "colab": {
          "base_uri": "https://localhost:8080/",
          "height": 159
        }
      },
      "execution_count": 12,
      "outputs": [
        {
          "output_type": "error",
          "ename": "AttributeError",
          "evalue": "module 'Intervar' has no attribute 'InterVar'",
          "traceback": [
            "\u001b[0;31m---------------------------------------------------------------------------\u001b[0m",
            "\u001b[0;31mAttributeError\u001b[0m                            Traceback (most recent call last)",
            "\u001b[0;32m<ipython-input-12-abe020201d71>\u001b[0m in \u001b[0;36m<cell line: 1>\u001b[0;34m()\u001b[0m\n\u001b[0;32m----> 1\u001b[0;31m \u001b[0mintervar_instance\u001b[0m \u001b[0;34m=\u001b[0m \u001b[0mIntervar\u001b[0m\u001b[0;34m.\u001b[0m\u001b[0mInterVar\u001b[0m\u001b[0;34m(\u001b[0m\u001b[0;34m)\u001b[0m\u001b[0;34m\u001b[0m\u001b[0;34m\u001b[0m\u001b[0m\n\u001b[0m\u001b[1;32m      2\u001b[0m \u001b[0mclassified_variants\u001b[0m \u001b[0;34m=\u001b[0m \u001b[0mintervar_instance\u001b[0m\u001b[0;34m.\u001b[0m\u001b[0mclassify_variants\u001b[0m\u001b[0;34m(\u001b[0m\u001b[0mvariant_data\u001b[0m\u001b[0;34m)\u001b[0m\u001b[0;34m\u001b[0m\u001b[0;34m\u001b[0m\u001b[0m\n",
            "\u001b[0;31mAttributeError\u001b[0m: module 'Intervar' has no attribute 'InterVar'"
          ]
        }
      ]
    }
  ]
}